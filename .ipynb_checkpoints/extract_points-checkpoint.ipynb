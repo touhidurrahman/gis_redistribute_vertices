{
 "cells": [
  {
   "cell_type": "code",
   "execution_count": 54,
   "id": "9bb895f3",
   "metadata": {},
   "outputs": [],
   "source": [
    "import geopandas as gpd\n",
    "from shapely.geometry import Point, MultiPoint\n",
    "from shapely.geometry import LineString"
   ]
  },
  {
   "cell_type": "code",
   "execution_count": 3,
   "id": "e60e2fb2",
   "metadata": {},
   "outputs": [],
   "source": [
    "gdf = gpd.read_file(r\"F:\\OneDrive - VEI\\Spekter\\aggregate_buildings\\aggregateBuildings_sample\\test1.shp\")"
   ]
  },
  {
   "cell_type": "code",
   "execution_count": 5,
   "id": "c2ea22f8",
   "metadata": {},
   "outputs": [],
   "source": [
    "#Extract the geometry of the polygon feature from the GeoDataFrame.\n",
    "polygon = gdf['geometry'].iloc[0]"
   ]
  },
  {
   "cell_type": "code",
   "execution_count": 6,
   "id": "974f542f",
   "metadata": {},
   "outputs": [],
   "source": [
    "#Access the coordinates of the vertices\n",
    "vertices = list(polygon.exterior.coords)"
   ]
  },
  {
   "cell_type": "code",
   "execution_count": 63,
   "id": "70d791d8",
   "metadata": {},
   "outputs": [
    {
     "name": "stdout",
     "output_type": "stream",
     "text": [
      "720170.9199999999\n",
      "720159.2999999998\n",
      "720173.79\n",
      "720185.3399999999\n",
      "720170.9199999999\n"
     ]
    }
   ],
   "source": [
    "#Print or use the coordinates\n",
    "for vertice in vertices:\n",
    "    print (vertice[0])\n"
   ]
  },
  {
   "cell_type": "code",
   "execution_count": 25,
   "id": "f8644b3f",
   "metadata": {},
   "outputs": [],
   "source": [
    "distances = [Point(vertices[i]).distance(Point(vertices[i + 1])) for i in range(len(vertices) - 1)]"
   ]
  },
  {
   "cell_type": "code",
   "execution_count": 26,
   "id": "503b630a",
   "metadata": {
    "scrolled": true
   },
   "outputs": [
    {
     "name": "stdout",
     "output_type": "stream",
     "text": [
      "27.224415511857035\n",
      "15.905775680969482\n",
      "27.140303978056608\n",
      "15.86697198544827\n"
     ]
    }
   ],
   "source": [
    "for distance in distances:\n",
    "    print (distance)"
   ]
  },
  {
   "cell_type": "code",
   "execution_count": 35,
   "id": "4d74e38e",
   "metadata": {},
   "outputs": [
    {
     "name": "stdout",
     "output_type": "stream",
     "text": [
      "1.5\n"
     ]
    }
   ],
   "source": [
    "gap = float(input())"
   ]
  },
  {
   "cell_type": "code",
   "execution_count": 39,
   "id": "e059218c",
   "metadata": {},
   "outputs": [
    {
     "name": "stdout",
     "output_type": "stream",
     "text": [
      "18\n",
      "1.512467528436502\n",
      "11\n",
      "1.445979607360862\n",
      "18\n",
      "1.5077946654475893\n",
      "11\n",
      "1.4424519986771154\n"
     ]
    }
   ],
   "source": [
    "for i in range(len(vertices)-1):\n",
    "    distance = Point(vertices[i]).distance(Point(vertices[i + 1]))\n",
    "    node = round(distance / gap)\n",
    "    print (node)\n",
    "    modified_distance = distance / node\n",
    "    print (modified_distance)"
   ]
  },
  {
   "cell_type": "code",
   "execution_count": 40,
   "id": "da695c8e",
   "metadata": {},
   "outputs": [],
   "source": [
    "coord1 = (720170.9199999999, 5427979.73)\n",
    "coord2 = (720159.2999999998, 5428004.35)"
   ]
  },
  {
   "cell_type": "code",
   "execution_count": 44,
   "id": "c91b430b",
   "metadata": {},
   "outputs": [],
   "source": [
    "# Create a LineString from the two coordinates\n",
    "line = LineString([coord1, coord2])"
   ]
  },
  {
   "cell_type": "code",
   "execution_count": 45,
   "id": "b5bc37df",
   "metadata": {},
   "outputs": [],
   "source": [
    "# Calculate the total distance between the two coordinates\n",
    "total_distance = line.length\n",
    "\n",
    "# Specify the interval length (adjust as needed)\n",
    "interval_length = 1.0  # Change this to your desired interval length in meters\n",
    "\n",
    "# Calculate the number of intervals\n",
    "num_intervals = int(total_distance / interval_length)"
   ]
  },
  {
   "cell_type": "code",
   "execution_count": 46,
   "id": "9c4288af",
   "metadata": {},
   "outputs": [],
   "source": [
    "# Generate new coordinates at the specified interval length\n",
    "new_coordinates = [line.interpolate(i * interval_length).coords[0] for i in range(1, num_intervals)]"
   ]
  },
  {
   "cell_type": "code",
   "execution_count": 47,
   "id": "1a79c2a6",
   "metadata": {},
   "outputs": [],
   "source": [
    "# Include the original coordinates and the newly generated ones\n",
    "all_coordinates = [coord1] + new_coordinates + [coord2]"
   ]
  },
  {
   "cell_type": "code",
   "execution_count": 50,
   "id": "811331d2",
   "metadata": {},
   "outputs": [
    {
     "name": "stdout",
     "output_type": "stream",
     "text": [
      "(720170.9199999999, 5427979.73)\n",
      "(720170.4931772461, 5427980.634335302)\n",
      "(720170.0663544922, 5427981.538670602)\n",
      "(720169.6395317385, 5427982.443005904)\n",
      "(720169.2127089846, 5427983.347341205)\n",
      "(720168.7858862308, 5427984.251676506)\n",
      "(720168.3590634769, 5427985.156011807)\n",
      "(720167.9322407232, 5427986.060347108)\n",
      "(720167.5054179693, 5427986.96468241)\n",
      "(720167.0785952155, 5427987.86901771)\n",
      "(720166.6517724616, 5427988.773353011)\n",
      "(720166.2249497079, 5427989.677688313)\n",
      "(720165.798126954, 5427990.582023614)\n",
      "(720165.3713042001, 5427991.4863589145)\n",
      "(720164.9444814463, 5427992.390694216)\n",
      "(720164.5176586926, 5427993.295029517)\n",
      "(720164.0908359387, 5427994.199364818)\n",
      "(720163.6640131848, 5427995.103700119)\n",
      "(720163.237190431, 5427996.00803542)\n",
      "(720162.8103676772, 5427996.912370721)\n",
      "(720162.3835449234, 5427997.816706022)\n",
      "(720161.9567221695, 5427998.721041324)\n",
      "(720161.5298994157, 5427999.625376625)\n",
      "(720161.1030766619, 5428000.529711925)\n",
      "(720160.6762539081, 5428001.434047227)\n",
      "(720160.2494311542, 5428002.338382528)\n",
      "(720159.8226084004, 5428003.242717829)\n",
      "(720159.2999999998, 5428004.35)\n"
     ]
    }
   ],
   "source": [
    "# Print or use the coordinates as needed\n",
    "for i, coordinate in enumerate(all_coordinates, 1):\n",
    "    print(coordinate)"
   ]
  },
  {
   "cell_type": "markdown",
   "id": "5abaa048",
   "metadata": {},
   "source": [
    "Creating points from all the coordinates"
   ]
  },
  {
   "cell_type": "code",
   "execution_count": 52,
   "id": "27de9b2e",
   "metadata": {},
   "outputs": [],
   "source": [
    "# Create Point objects for each coordinate\n",
    "points = [Point(coords) for coords in all_coordinates]"
   ]
  },
  {
   "cell_type": "code",
   "execution_count": 60,
   "id": "79a62b16",
   "metadata": {},
   "outputs": [],
   "source": [
    "# Create a GeoDataFrame with the Point geometries\n",
    "gdf = gpd.GeoDataFrame(geometry=points)"
   ]
  },
  {
   "cell_type": "code",
   "execution_count": 61,
   "id": "a6689959",
   "metadata": {},
   "outputs": [],
   "source": [
    "# Save the GeoDataFrame to a shapefile\n",
    "output_shapefile = \"output_points.shp\"\n",
    "gdf.to_file(output_shapefile)"
   ]
  },
  {
   "cell_type": "code",
   "execution_count": 57,
   "id": "ea12ef90",
   "metadata": {},
   "outputs": [],
   "source": [
    "# Create a GeoDataFrame with the MultiPoint geometry\n",
    "gdf = gpd.GeoDataFrame(geometry=[multi_point])"
   ]
  },
  {
   "cell_type": "code",
   "execution_count": null,
   "id": "5b3542f5",
   "metadata": {},
   "outputs": [],
   "source": []
  }
 ],
 "metadata": {
  "kernelspec": {
   "display_name": "Python 3 (ipykernel)",
   "language": "python",
   "name": "python3"
  },
  "language_info": {
   "codemirror_mode": {
    "name": "ipython",
    "version": 3
   },
   "file_extension": ".py",
   "mimetype": "text/x-python",
   "name": "python",
   "nbconvert_exporter": "python",
   "pygments_lexer": "ipython3",
   "version": "3.9.18"
  }
 },
 "nbformat": 4,
 "nbformat_minor": 5
}
